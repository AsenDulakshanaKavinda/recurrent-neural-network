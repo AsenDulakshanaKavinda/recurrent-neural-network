{
 "cells": [
  {
   "cell_type": "code",
   "execution_count": 1,
   "id": "3b261d75",
   "metadata": {},
   "outputs": [],
   "source": [
    "import torch\n",
    "import torch.nn as nn"
   ]
  },
  {
   "cell_type": "markdown",
   "id": "ca966c27",
   "metadata": {},
   "source": [
    "### Vanilla RNNs"
   ]
  },
  {
   "cell_type": "code",
   "execution_count": null,
   "id": "b4fd22dc",
   "metadata": {},
   "outputs": [],
   "source": [
    "class RNN(nn.Module):\n",
    "    def __init__(self, input_size, hidden_size, output_size):\n",
    "        super(RNN, self).__init__()\n",
    "        self.hidden_size = hidden_size\n",
    "\n",
    "        self.i2h = nn.Linear(input_size + hidden_size, hidden_size, bias=True)\n",
    "        self.i2o = nn.Linear(input_size + hidden_size, output_size, bias=True)\n",
    "        self.softmax = nn.LogSoftmax(dim=1)\n",
    "\n",
    "    def forward(self, input_tensor, hidden_tensor):\n",
    "        combined = torch.cat((input_tensor, hidden_tensor), dim=1)\n",
    "\n",
    "        hidden = torch.tanh(self.i2h(combined))\n",
    "        output = self.i2o(combined)\n",
    "        output = self.softmax(output)\n",
    "        return output, hidden\n",
    "    \n",
    "    def init_hidden(self, batch_size):\n",
    "        return torch.zeros(batch_size, self.hidden_size)\n"
   ]
  },
  {
   "cell_type": "markdown",
   "id": "955fc479",
   "metadata": {},
   "source": [
    "### LSTM"
   ]
  },
  {
   "cell_type": "code",
   "execution_count": null,
   "id": "5de6b686",
   "metadata": {},
   "outputs": [],
   "source": [
    "class LSTM(nn.Module):\n",
    "    def __init__(self, input_size, hidden_size, output_size):\n",
    "        super(LSTM, self).__init__()\n",
    "        self.hidden_size = hidden_size\n",
    "\n",
    "        self.i2f = nn.Linear(input_size + hidden_size, hidden_size, bias=True) # forget gate\n",
    "        self.i2i = nn.Linear(input_size + hidden_size, hidden_size, bias=True) # input gate\n",
    "        self.i2o = nn.Linear(input_size + hidden_size, hidden_size, bias=True) # output gate\n",
    "        self.i2c = nn.Linear(input_size + hidden_size, hidden_size, bias=True) # cell gate\n",
    "\n",
    "        self.i2y = nn.Linear(hidden_size, output_size, bias=True)  # Output layer\n",
    "        self.softmax = nn.LogSoftmax(dim=1)\n",
    "\n",
    "    def forward(self, input_tensor, hidden_state, cell_state):\n",
    "        combined = torch.cat((input_tensor, hidden_state), dim=1)\n",
    "\n",
    "        forget_gate = torch.sigmoid(self.i2f(combined))\n",
    "        input_gate = torch.sigmoid(self.i2i(combined))\n",
    "        output_gate = torch.sigmoid(self.i2o(combined))\n",
    "        cell_candidate = torch.tanh(self.i2c(combined))\n",
    "\n",
    "        cell_state = forget_gate * cell_state + input_gate * cell_candidate\n",
    "        hidden_state = output_gate * torch.tanh(cell_state)\n",
    "\n",
    "        output = self.i2y(hidden_state)\n",
    "        output = self.softmax(output)\n",
    "\n",
    "        return output, hidden_state, cell_state\n",
    "\n",
    "    def init_hidden(self, batch_size):\n",
    "        return torch.zeros(batch_size, self.hidden_size), torch.zeros(batch_size, self.hidden_size)\n"
   ]
  },
  {
   "cell_type": "markdown",
   "id": "6b0da94f",
   "metadata": {},
   "source": [
    "### Gated Recurrent Unit"
   ]
  },
  {
   "cell_type": "code",
   "execution_count": null,
   "id": "c861cc05",
   "metadata": {},
   "outputs": [],
   "source": [
    "class GRU(nn.Module):\n",
    "    def __init__(self, input_size, hidden_size, output_size):\n",
    "        super(GRU, self).__init__()\n",
    "        self.hidden_size = hidden_size\n",
    "\n",
    "        # gate\n",
    "        self.i2z = nn.Linear(input_size + hidden_size, hidden_size) # update gate\n",
    "        self.i2r = nn.Linear(input_size + hidden_size, hidden_size) # reset gate\n",
    "        self.i2h = nn.Linear(input_size + hidden_size, hidden_size) # candidate hidden state\n",
    "\n",
    "        #output layer\n",
    "        self.i2y = nn.Linear(hidden_size, output_size)\n",
    "        self.softmax = nn.LogSoftmax(dim=1) # remove if using CrossEntropyLoss\n",
    "\n",
    "    def forward(self, input_tensor, hidden_state):\n",
    "        combined = torch.cat((input_tensor, hidden_state), dim=1)\n",
    "\n",
    "        # gates\n",
    "        update_gate = torch.sigmoid(self.i2z(combined))\n",
    "        reset_gate = torch.sigmoid(self.i2r(combined))\n",
    "\n",
    "        # apply reset gate before computing candidate hidden state\n",
    "        combined_reset = torch.cat((input_tensor, reset_gate * hidden_state), dim=1)\n",
    "        candidate = torch.tanh(self.i2h(combined_reset))\n",
    "\n",
    "        # final hidden state\n",
    "        hidden_state = (1 - update_gate) * hidden_state + update_gate * candidate\n",
    "\n",
    "        # output \n",
    "        output = self.i2y(hidden_state)\n",
    "        output = self.softmax(output)\n",
    "\n",
    "        return output, hidden_state\n",
    "    \n",
    "    def init_hidden(self, batch_size):\n",
    "        return torch.zeros(batch_size, self.hidden_size)\n",
    "    \n",
    "        "
   ]
  },
  {
   "cell_type": "code",
   "execution_count": null,
   "id": "c660ce3b",
   "metadata": {},
   "outputs": [],
   "source": []
  },
  {
   "cell_type": "code",
   "execution_count": null,
   "id": "5dfa55d7",
   "metadata": {},
   "outputs": [],
   "source": []
  },
  {
   "cell_type": "code",
   "execution_count": null,
   "id": "953b8ceb",
   "metadata": {},
   "outputs": [],
   "source": []
  },
  {
   "cell_type": "code",
   "execution_count": null,
   "id": "6cdf232f",
   "metadata": {},
   "outputs": [],
   "source": []
  }
 ],
 "metadata": {
  "kernelspec": {
   "display_name": ".venv",
   "language": "python",
   "name": "python3"
  },
  "language_info": {
   "codemirror_mode": {
    "name": "ipython",
    "version": 3
   },
   "file_extension": ".py",
   "mimetype": "text/x-python",
   "name": "python",
   "nbconvert_exporter": "python",
   "pygments_lexer": "ipython3",
   "version": "3.13.2"
  }
 },
 "nbformat": 4,
 "nbformat_minor": 5
}
